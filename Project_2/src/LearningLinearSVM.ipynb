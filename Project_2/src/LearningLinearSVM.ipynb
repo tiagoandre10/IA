{
 "cells": [
  {
   "cell_type": "code",
   "execution_count": 1,
   "metadata": {
    "pycharm": {
     "name": "#%%\n"
    }
   },
   "outputs": [],
   "source": [
    "import pandas as pd\n",
    "import numpy as np\n",
    "import seaborn as sb\n",
    "from sklearn.model_selection import train_test_split\n",
    "\n",
    "#import data\n",
    "churn_data = pd.read_csv('WA_Fn-UseC_-Telco-Customer-Churn_R2.csv')\n",
    "\n",
    "#set target data\n",
    "churn_target = churn_data.iloc[:,-1]\n",
    "\n",
    "#set feature data\n",
    "churn_data.drop([\"customerID\", \"Churn\"], axis=1, inplace=True)\n",
    "\n",
    "#set training and test variables\n",
    "X = np.array(churn_data)\n",
    "y = np.array(churn_target)\n",
    "\n",
    "#set variables for target and features\n",
    "features = list(churn_data)\n",
    "targets = list(churn_target)\n",
    "\n",
    "#divide data into training and test sets\n",
    "X_train, X_test, y_train, y_test = train_test_split(X, y, test_size = 0.3, random_state = 100)\n",
    "\n",
    "#set seaborn style and fontsize\n",
    "sb.set_style('ticks')\n",
    "sb.set_context('paper', font_scale=1.6)"
   ]
  },
  {
   "cell_type": "code",
   "execution_count": 2,
   "metadata": {
    "pycharm": {
     "name": "#%%\n"
    }
   },
   "outputs": [
    {
     "name": "stdout",
     "output_type": "stream",
     "text": [
      "Training: 401.1066675186157 seconds\n",
      "\n",
      "Predicted values: [0 0 0 ... 0 0 0]\n",
      "\n",
      "Confusion Matrix:\n",
      "[[1419  114]\n",
      " [ 312  259]]\n",
      "\n",
      "Accuracy: 79.75285171102662%\n",
      "\n",
      "Report:\n",
      "              precision    recall  f1-score   support\n",
      "\n",
      "           0       0.82      0.93      0.87      1533\n",
      "           1       0.69      0.45      0.55       571\n",
      "\n",
      "    accuracy                           0.80      2104\n",
      "   macro avg       0.76      0.69      0.71      2104\n",
      "weighted avg       0.79      0.80      0.78      2104\n",
      "\n",
      "\n"
     ]
    }
   ],
   "source": [
    "import time\n",
    "from sklearn import svm\n",
    "from sklearn.metrics import confusion_matrix, accuracy_score, classification_report\n",
    "\n",
    "#create a svm Classifier\n",
    "clf = svm.SVC(kernel='linear') # Linear Kernel\n",
    "\n",
    "#fit the model and time it\n",
    "start = time.time()\n",
    "\n",
    "#train the model using the training sets\n",
    "clf.fit(X_train, y_train)\n",
    "\n",
    "stop = time.time()\n",
    "\n",
    "#predict the response for test dataset\n",
    "y_pred = clf.predict(X_test)\n",
    "\n",
    "print(f\"Training: {stop - start} seconds\")\n",
    "print()\n",
    "\n",
    "print(\"Predicted values:\", y_pred)\n",
    "print()\n",
    "\n",
    "print(\"Confusion Matrix:\")\n",
    "print(confusion_matrix(y_test, y_pred))\n",
    "print()\n",
    "\n",
    "print (f\"Accuracy: {accuracy_score(y_test,y_pred)*100}%\")\n",
    "print()\n",
    "\n",
    "print(\"Report:\")\n",
    "print(classification_report(y_test, y_pred))\n",
    "print()"
   ]
  },
  {
   "cell_type": "code",
   "execution_count": 3,
   "metadata": {
    "pycharm": {
     "name": "#%%\n"
    }
   },
   "outputs": [
    {
     "ename": "ValueError",
     "evalue": "operands could not be broadcast together with shapes (50,2) (19,) ",
     "output_type": "error",
     "traceback": [
      "\u001B[0;31m---------------------------------------------------------------------------\u001B[0m",
      "\u001B[0;31mValueError\u001B[0m                                Traceback (most recent call last)",
      "Input \u001B[0;32mIn [3]\u001B[0m, in \u001B[0;36m<cell line: 37>\u001B[0;34m()\u001B[0m\n\u001B[1;32m     35\u001B[0m \u001B[38;5;66;03m# Step 4 (calculate points of the margin lines):\u001B[39;00m\n\u001B[1;32m     36\u001B[0m decision_boundary_points \u001B[38;5;241m=\u001B[39m np\u001B[38;5;241m.\u001B[39marray(\u001B[38;5;28mlist\u001B[39m(\u001B[38;5;28mzip\u001B[39m(x_points, y_points)))\n\u001B[0;32m---> 37\u001B[0m points_of_line_above \u001B[38;5;241m=\u001B[39m \u001B[43mdecision_boundary_points\u001B[49m\u001B[43m \u001B[49m\u001B[38;5;241;43m+\u001B[39;49m\u001B[43m \u001B[49m\u001B[43mw_hat\u001B[49m\u001B[43m \u001B[49m\u001B[38;5;241;43m*\u001B[39;49m\u001B[43m \u001B[49m\u001B[43mmargin\u001B[49m\n\u001B[1;32m     38\u001B[0m points_of_line_below \u001B[38;5;241m=\u001B[39m decision_boundary_points \u001B[38;5;241m-\u001B[39m w_hat \u001B[38;5;241m*\u001B[39m margin\n\u001B[1;32m     40\u001B[0m \u001B[38;5;66;03m# Plot margin lines# Blue margin line above\u001B[39;00m\n",
      "\u001B[0;31mValueError\u001B[0m: operands could not be broadcast together with shapes (50,2) (19,) "
     ]
    },
    {
     "data": {
      "image/png": "[encoded data removed]",
      "text/plain": [
       "<Figure size 720x576 with 1 Axes>"
      ]
     },
     "metadata": {
      "needs_background": "light"
     },
     "output_type": "display_data"
    }
   ],
   "source": [
    "import matplotlib.pyplot as plt\n",
    "import seaborn as sns\n",
    "\n",
    "plt.figure(figsize=(10, 8))\n",
    "\n",
    "# Plotting our two-features-space\n",
    "sns.scatterplot(x=X_train[:, 0],\n",
    "                y=X_train[:, 1],\n",
    "                hue=y_train,\n",
    "                s=8)\n",
    "\n",
    "# Constructing a hyperplane using a formula.\n",
    "w = clf.coef_[0]           # w consists of 2 elements\n",
    "b = clf.intercept_[0]      # b consists of 1 element\n",
    "x_points = np.linspace(-1, 1)    # generating x-points from -1 to 1\n",
    "y_points = -(w[0] / w[1]) * x_points - b / w[1]  # getting corresponding y-points\n",
    "\n",
    "# Plotting a red hyperplane\n",
    "plt.plot(x_points, y_points, c='r')\n",
    "\n",
    "# Encircle support vectors\n",
    "plt.scatter(clf.support_vectors_[:, 0],\n",
    "            clf.support_vectors_[:, 1],\n",
    "            s=19,\n",
    "            facecolors='none',\n",
    "            edgecolors='k',\n",
    "            alpha=.5)\n",
    "\n",
    "# Step 2 (unit-vector):\n",
    "w_hat = clf.coef_[0] / (np.sqrt(np.sum(clf.coef_[0] ** 2)))\n",
    "\n",
    "# Step 3 (margin):\n",
    "margin = 1 / np.sqrt(np.sum(clf.coef_[0] ** 2))\n",
    "\n",
    "# Step 4 (calculate points of the margin lines):\n",
    "decision_boundary_points = np.array(list(zip(x_points, y_points)))\n",
    "points_of_line_above = decision_boundary_points + w_hat * margin\n",
    "points_of_line_below = decision_boundary_points - w_hat * margin\n",
    "\n",
    "# Plot margin lines# Blue margin line above\n",
    "plt.plot(points_of_line_above[:, 0],\n",
    "         points_of_line_above[:, 1],\n",
    "         'b--',\n",
    "         linewidth=2)\n",
    "\n",
    "# Green margin line below\n",
    "plt.plot(points_of_line_below[:, 0],\n",
    "         points_of_line_below[:, 1],\n",
    "         'g--',\n",
    "         linewidth=2)"
   ]
  }
 ],
 "metadata": {
  "kernelspec": {
   "display_name": "Python 3 (ipykernel)",
   "language": "python",
   "name": "python3"
  },
  "language_info": {
   "codemirror_mode": {
    "name": "ipython",
    "version": 3
   },
   "file_extension": ".py",
   "mimetype": "text/x-python",
   "name": "python",
   "nbconvert_exporter": "python",
   "pygments_lexer": "ipython3",
   "version": "3.9.12"
  }
 },
 "nbformat": 4,
 "nbformat_minor": 1
}