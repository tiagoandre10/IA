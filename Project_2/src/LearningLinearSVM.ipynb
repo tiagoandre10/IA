{
 "cells": [
  {
   "cell_type": "code",
   "execution_count": 1,
   "metadata": {
    "pycharm": {
     "name": "#%%\n"
    }
   },
   "outputs": [],
   "source": [
    "import pandas as pd\n",
    "import numpy as np\n",
    "import seaborn as sb\n",
    "from sklearn.preprocessing import StandardScaler\n",
    "from sklearn.model_selection import train_test_split\n",
    "\n",
    "# import data\n",
    "churn_data = pd.read_csv('WA_Fn-UseC_-Telco-Customer-Churn_R2.csv')\n",
    "\n",
    "input_names = list(churn_data.columns)\n",
    "\n",
    "all_inputs = churn_data[input_names].values\n",
    "\n",
    "# set target data\n",
    "churn_target = churn_data.iloc[:,-1]\n",
    "\n",
    "# set feature data\n",
    "churn_data.drop([\"customerID\",\"Churn\"], axis=1, inplace=True)\n",
    "\n",
    "# set training and test variables\n",
    "X = np.array(churn_data)\n",
    "y = np.array(churn_target)\n",
    "\n",
    "# set variables for target and features\n",
    "features = list(churn_data)\n",
    "targets = list(churn_target)\n",
    "\n",
    "# divide data into training and test sets\n",
    "X_train, X_test, y_train, y_test = train_test_split(X, y, test_size = 0.3, random_state = 100)\n",
    "\n",
    "# set seaborn style and fontsize\n",
    "sb.set_style('ticks')\n",
    "sb.set_context('paper', font_scale=1.6)\n",
    "\n",
    "# data normalization\n",
    "scaler = StandardScaler()\n",
    "\n",
    "scaler.fit(X_train)\n",
    "\n",
    "X_train = scaler.transform(X_train)\n",
    "X_test = scaler.transform(X_test)"
   ]
  },
  {
   "cell_type": "code",
   "execution_count": 2,
   "metadata": {
    "pycharm": {
     "name": "#%%\n"
    }
   },
   "outputs": [
    {
     "name": "stdout",
     "output_type": "stream",
     "text": [
      "Training: 0.6817870140075684 seconds\n",
      "\n",
      "Predicted values: [0 0 0 ... 0 0 0]\n",
      "\n",
      "Confusion Matrix:\n",
      "[[1364  169]\n",
      " [ 273  298]]\n",
      "\n",
      "Accuracy: 78.99239543726236%\n",
      "\n",
      "Report:\n",
      "              precision    recall  f1-score   support\n",
      "\n",
      "           0       0.83      0.89      0.86      1533\n",
      "           1       0.64      0.52      0.57       571\n",
      "\n",
      "    accuracy                           0.79      2104\n",
      "   macro avg       0.74      0.71      0.72      2104\n",
      "weighted avg       0.78      0.79      0.78      2104\n",
      "\n",
      "\n"
     ]
    }
   ],
   "source": [
    "import time\n",
    "from sklearn import svm\n",
    "from sklearn.metrics import confusion_matrix, accuracy_score, classification_report\n",
    "\n",
    "#create a svm Classifier\n",
    "clf = svm.SVC(kernel='linear') # Linear Kernel\n",
    "\n",
    "#fit the model and time it\n",
    "start = time.time()\n",
    "\n",
    "#train the model using the training sets\n",
    "clf.fit(X_train, y_train)\n",
    "\n",
    "stop = time.time()\n",
    "\n",
    "#predict the response for test dataset\n",
    "y_pred = clf.predict(X_test)\n",
    "\n",
    "print(f\"Training: {stop - start} seconds\")\n",
    "print()\n",
    "\n",
    "print(\"Predicted values:\", y_pred)\n",
    "print()\n",
    "\n",
    "print(\"Confusion Matrix:\")\n",
    "print(confusion_matrix(y_test, y_pred))\n",
    "print()\n",
    "\n",
    "print (f\"Accuracy: {accuracy_score(y_test,y_pred)*100}%\")\n",
    "print()\n",
    "\n",
    "print(\"Report:\")\n",
    "print(classification_report(y_test, y_pred))\n",
    "print()"
   ]
  },
  {
   "cell_type": "code",
   "execution_count": 3,
   "outputs": [
    {
     "name": "stdout",
     "output_type": "stream",
     "text": [
      "Fitting 5 folds for each of 5 candidates, totalling 25 fits\n",
      "[CV 1/5] END ..............C=0.1, kernel=linear;, score=0.801 total time=   0.3s\n",
      "[CV 2/5] END ..............C=0.1, kernel=linear;, score=0.802 total time=   0.3s\n",
      "[CV 3/5] END ..............C=0.1, kernel=linear;, score=0.786 total time=   0.3s\n",
      "[CV 4/5] END ..............C=0.1, kernel=linear;, score=0.789 total time=   0.4s\n",
      "[CV 5/5] END ..............C=0.1, kernel=linear;, score=0.802 total time=   0.3s\n",
      "[CV 1/5] END ..............C=0.5, kernel=linear;, score=0.798 total time=   0.4s\n",
      "[CV 2/5] END ..............C=0.5, kernel=linear;, score=0.803 total time=   0.4s\n",
      "[CV 3/5] END ..............C=0.5, kernel=linear;, score=0.784 total time=   0.4s\n",
      "[CV 4/5] END ..............C=0.5, kernel=linear;, score=0.788 total time=   0.4s\n",
      "[CV 5/5] END ..............C=0.5, kernel=linear;, score=0.798 total time=   0.4s\n",
      "[CV 1/5] END ................C=1, kernel=linear;, score=0.798 total time=   0.5s\n",
      "[CV 2/5] END ................C=1, kernel=linear;, score=0.802 total time=   0.5s\n",
      "[CV 3/5] END ................C=1, kernel=linear;, score=0.785 total time=   0.5s\n",
      "[CV 4/5] END ................C=1, kernel=linear;, score=0.789 total time=   0.5s\n",
      "[CV 5/5] END ................C=1, kernel=linear;, score=0.797 total time=   0.5s\n",
      "[CV 1/5] END ...............C=10, kernel=linear;, score=0.797 total time=   1.3s\n",
      "[CV 2/5] END ...............C=10, kernel=linear;, score=0.803 total time=   1.4s\n",
      "[CV 3/5] END ...............C=10, kernel=linear;, score=0.786 total time=   1.3s\n",
      "[CV 4/5] END ...............C=10, kernel=linear;, score=0.789 total time=   1.4s\n",
      "[CV 5/5] END ...............C=10, kernel=linear;, score=0.797 total time=   1.4s\n",
      "[CV 1/5] END ..............C=100, kernel=linear;, score=0.797 total time=   7.9s\n",
      "[CV 2/5] END ..............C=100, kernel=linear;, score=0.803 total time=   8.1s\n",
      "[CV 3/5] END ..............C=100, kernel=linear;, score=0.786 total time=   7.0s\n",
      "[CV 4/5] END ..............C=100, kernel=linear;, score=0.788 total time=   7.0s\n",
      "[CV 5/5] END ..............C=100, kernel=linear;, score=0.797 total time=   7.2s\n",
      "Best score: 0.7962071621500983\n",
      "Best parameters: {'C': 0.1, 'kernel': 'linear'}\n",
      "Best estimator: SVC(C=0.1, kernel='linear')\n"
     ]
    }
   ],
   "source": [
    "from sklearn.svm import SVC\n",
    "from sklearn.model_selection import GridSearchCV\n",
    "from sklearn.model_selection import StratifiedKFold\n",
    "\n",
    "parameter_grid = {'C' : [0.1, 0.5, 1, 10, 100], 'kernel': ['linear']}\n",
    "\n",
    "cross_validation = StratifiedKFold(n_splits=5)\n",
    "\n",
    "grid_search = GridSearchCV(SVC(), param_grid=parameter_grid, cv=cross_validation, refit=True, verbose=3)\n",
    "\n",
    "grid_search.fit(X_train, y_train)\n",
    "\n",
    "print('Best score: {}'.format(grid_search.best_score_))\n",
    "print('Best parameters: {}'.format(grid_search.best_params_))\n",
    "print('Best estimator: {}'.format(grid_search.best_estimator_))"
   ],
   "metadata": {
    "collapsed": false,
    "pycharm": {
     "name": "#%%\n"
    }
   }
  }
 ],
 "metadata": {
  "kernelspec": {
   "display_name": "Python 3 (ipykernel)",
   "language": "python",
   "name": "python3"
  },
  "language_info": {
   "codemirror_mode": {
    "name": "ipython",
    "version": 3
   },
   "file_extension": ".py",
   "mimetype": "text/x-python",
   "name": "python",
   "nbconvert_exporter": "python",
   "pygments_lexer": "ipython3",
   "version": "3.9.12"
  }
 },
 "nbformat": 4,
 "nbformat_minor": 1
}